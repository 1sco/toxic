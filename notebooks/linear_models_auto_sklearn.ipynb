{
 "cells": [
  {
   "cell_type": "code",
   "execution_count": 1,
   "metadata": {},
   "outputs": [],
   "source": [
    "from pathlib import Path\n",
    "import numpy as np\n",
    "import pandas as pd\n",
    "from sklearn.feature_extraction.text import TfidfVectorizer\n",
    "from sklearn.model_selection import cross_val_score\n",
    "from scipy.sparse import hstack\n",
    "from collections import Counter\n",
    "import autosklearn.classification\n",
    "import pickle\n",
    "\n",
    "pd.set_option('max_colwidth', -1)"
   ]
  },
  {
   "cell_type": "code",
   "execution_count": 2,
   "metadata": {},
   "outputs": [],
   "source": [
    "class_names = ['toxic', 'severe_toxic', 'obscene', 'threat', 'insult', 'identity_hate']"
   ]
  },
  {
   "cell_type": "code",
   "execution_count": 4,
   "metadata": {},
   "outputs": [],
   "source": [
    "data_path = Path('../data')\n",
    "train = pd.read_csv(Path(data_path, 'normalized_train.csv')).fillna(' ')\n",
    "test = pd.read_csv(Path(data_path, 'normalized_test.csv')).fillna(' ')"
   ]
  },
  {
   "cell_type": "code",
   "execution_count": 5,
   "metadata": {},
   "outputs": [],
   "source": [
    "train_text = train['comment_text']\n",
    "test_text = test['comment_text']"
   ]
  },
  {
   "cell_type": "code",
   "execution_count": 6,
   "metadata": {},
   "outputs": [
    {
     "name": "stdout",
     "output_type": "stream",
     "text": [
      "toxic: 15294\n",
      "severe_toxic: 1595\n",
      "obscene: 8449\n",
      "threat: 478\n",
      "insult: 7877\n",
      "identity_hate: 1405\n"
     ]
    }
   ],
   "source": [
    "for name in class_names:\n",
    "    print(\"{}: {}\".format(name, train[train[name] == 1].shape[0]))"
   ]
  },
  {
   "cell_type": "code",
   "execution_count": 7,
   "metadata": {},
   "outputs": [],
   "source": [
    "word_vectorizer = TfidfVectorizer(\n",
    "    sublinear_tf=True,\n",
    "    strip_accents='unicode',\n",
    "    analyzer='word',\n",
    "    token_pattern=r'\\w{1,}',\n",
    "    stop_words='english',\n",
    "    ngram_range=(1,1),\n",
    "    max_features=10000)\n",
    "\n",
    "train_word_features = word_vectorizer.fit_transform(train_text)\n",
    "test_word_features = word_vectorizer.transform(test_text)"
   ]
  },
  {
   "cell_type": "code",
   "execution_count": null,
   "metadata": {},
   "outputs": [],
   "source": [
    "char_vectorizer = TfidfVectorizer(\n",
    "    sublinear_tf=True,\n",
    "    strip_accents='unicode',\n",
    "    analyzer='char',\n",
    "    stop_words='english',\n",
    "    ngram_range=(2, 6),\n",
    "    max_features=20000)\n",
    "\n",
    "train_char_features = char_vectorizer.fit_transform(train_text)\n",
    "test_char_features = char_vectorizer.transform(test_text)"
   ]
  },
  {
   "cell_type": "code",
   "execution_count": null,
   "metadata": {},
   "outputs": [],
   "source": [
    "train_features = hstack([train_char_features, train_word_features])\n",
    "test_features = hstack([test_char_features, test_word_features])"
   ]
  },
  {
   "cell_type": "code",
   "execution_count": null,
   "metadata": {},
   "outputs": [],
   "source": [
    "classifiers = {}"
   ]
  },
  {
   "cell_type": "code",
   "execution_count": null,
   "metadata": {
    "collapsed": true
   },
   "outputs": [],
   "source": [
    "for class_name in class_names:\n",
    "    print('Fitting {} class'.format(class_name))\n",
    "    y = class_name\n",
    "    \n",
    "    cls = classification.AutoSklearnClassifier(\n",
    "        time_left_for_this_task=10800,\n",
    "        per_run_time_limit=1000,\n",
    "        ml_memory_limit=100000,\n",
    "        seed=31\n",
    "        include_estimators=['sgd', 'liblinear_svc', 'libsvm_svc', 'bernoulli_nb', 'multinomial_nb',  'passive_aggressive']\n",
    "    )\n",
    "    \n",
    "    cls.fit(train_features, train[class_name],\n",
    "        metric=metrics.make_scorer('log_loss', metrics.log_loss, needs_proba=True))\n",
    "    print(cls.cv_results_)\n",
    "    print(cls.get_models_with_weights())\n",
    "    print()\n",
    "    print('Saving Classifier for {} class'.format(class_name))\n",
    "    classifiers[class_name] = cls\n",
    "    print()\n",
    "    print('Generating Predictions for {} class'.format(class_name))\n",
    "    submission[class_name] = cls.predict_proba(test_features)[:, 1]\n",
    "    \n",
    "submission.to_csv(Path(data_path, 'automl_submission.csv'), index=False)\n"
   ]
  }
 ],
 "metadata": {
  "kernelspec": {
   "display_name": "Python 3",
   "language": "python",
   "name": "python3"
  },
  "language_info": {
   "codemirror_mode": {
    "name": "ipython",
    "version": 3
   },
   "file_extension": ".py",
   "mimetype": "text/x-python",
   "name": "python",
   "nbconvert_exporter": "python",
   "pygments_lexer": "ipython3",
   "version": "3.5.2"
  }
 },
 "nbformat": 4,
 "nbformat_minor": 1
}
