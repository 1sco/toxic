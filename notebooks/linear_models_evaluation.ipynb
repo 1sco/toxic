{
 "cells": [
  {
   "cell_type": "code",
   "execution_count": 23,
   "metadata": {},
   "outputs": [],
   "source": [
    "from pathlib import Path\n",
    "import numpy as np\n",
    "import pandas as pd\n",
    "from sklearn.feature_extraction.text import TfidfVectorizer\n",
    "from sklearn.metrics import roc_auc_score, accuracy_score, classification_report\n",
    "from scipy.sparse import hstack\n",
    "from collections import Counter\n",
    "from autosklearn import classification, metrics\n",
    "import pickle\n",
    "\n",
    "pd.set_option('max_colwidth', -1)"
   ]
  },
  {
   "cell_type": "code",
   "execution_count": 30,
   "metadata": {},
   "outputs": [],
   "source": [
    "class_names = ['toxic', 'severe_toxic', 'obscene', 'threat']"
   ]
  },
  {
   "cell_type": "code",
   "execution_count": 4,
   "metadata": {},
   "outputs": [],
   "source": [
    "data_path = Path('../data')\n",
    "train = pd.read_csv(Path(data_path, 'normalized_train.csv')).fillna(' ')"
   ]
  },
  {
   "cell_type": "code",
   "execution_count": 7,
   "metadata": {},
   "outputs": [],
   "source": [
    "test = train.sample(1000, random_state=31)"
   ]
  },
  {
   "cell_type": "code",
   "execution_count": 13,
   "metadata": {},
   "outputs": [],
   "source": [
    "test_text = test['comment_text']"
   ]
  },
  {
   "cell_type": "code",
   "execution_count": 11,
   "metadata": {},
   "outputs": [],
   "source": [
    "with open('../data/word_vectorizer.pkl', 'rb') as file:\n",
    "    word_vectorizer = pickle.load(file)"
   ]
  },
  {
   "cell_type": "code",
   "execution_count": 12,
   "metadata": {},
   "outputs": [],
   "source": [
    "with open('../data/char_vectorizer.pkl', 'rb') as file:\n",
    "    char_vectorizer = pickle.load(file)"
   ]
  },
  {
   "cell_type": "code",
   "execution_count": 14,
   "metadata": {},
   "outputs": [],
   "source": [
    "test_word_features = word_vectorizer.transform(test_text)\n",
    "test_char_features = char_vectorizer.transform(test_text)"
   ]
  },
  {
   "cell_type": "code",
   "execution_count": 15,
   "metadata": {},
   "outputs": [],
   "source": [
    "test_features = hstack([test_char_features, test_word_features])"
   ]
  },
  {
   "cell_type": "code",
   "execution_count": 10,
   "metadata": {},
   "outputs": [],
   "source": [
    "with open('../data/automl_classifiers_toxic.pkl', 'rb') as file:\n",
    "    toxic_cf = pickle.load(file)"
   ]
  },
  {
   "cell_type": "code",
   "execution_count": 16,
   "metadata": {},
   "outputs": [],
   "source": [
    "y_preds = toxic_cf.predict_proba(test_features)[:, 1]"
   ]
  },
  {
   "cell_type": "code",
   "execution_count": 21,
   "metadata": {},
   "outputs": [],
   "source": [
    "y_labels_preds = toxic_cf.predict(test_features)"
   ]
  },
  {
   "cell_type": "code",
   "execution_count": 31,
   "metadata": {},
   "outputs": [
    {
     "name": "stderr",
     "output_type": "stream",
     "text": [
      "[WARNING] [15:22:13:autosklearn.util.backend] Could not delete output dir: /tmp/autosklearn_output_15704_6339\n",
      "[WARNING] [15:22:13:autosklearn.util.backend] Could not delete tmp dir: /tmp/autosklearn_tmp_15704_6339\n"
     ]
    },
    {
     "name": "stdout",
     "output_type": "stream",
     "text": [
      "Evaluating toxic\n",
      "\n"
     ]
    },
    {
     "name": "stderr",
     "output_type": "stream",
     "text": [
      "[WARNING] [15:22:14:autosklearn.util.backend] Could not delete output dir: /tmp/autosklearn_output_15704_8475\n",
      "[WARNING] [15:22:14:autosklearn.util.backend] Could not delete tmp dir: /tmp/autosklearn_tmp_15704_8475\n"
     ]
    },
    {
     "name": "stdout",
     "output_type": "stream",
     "text": [
      "ROC AUC:  0.9485968954186653\n",
      "ACC SCORE:  0.953\n",
      "             precision    recall  f1-score   support\n",
      "\n",
      "  NON_toxic      0.956     0.995     0.975       913\n",
      "      toxic      0.900     0.517     0.657        87\n",
      "\n",
      "avg / total      0.951     0.953     0.947      1000\n",
      "\n",
      "Evaluating severe_toxic\n",
      "\n"
     ]
    },
    {
     "name": "stderr",
     "output_type": "stream",
     "text": [
      "[WARNING] [15:22:16:autosklearn.util.backend] Could not delete output dir: /tmp/autosklearn_output_15704_9223\n",
      "[WARNING] [15:22:16:autosklearn.util.backend] Could not delete tmp dir: /tmp/autosklearn_tmp_15704_9223\n"
     ]
    },
    {
     "name": "stdout",
     "output_type": "stream",
     "text": [
      "ROC AUC:  1.0\n",
      "ACC SCORE:  0.999\n",
      "                  precision    recall  f1-score   support\n",
      "\n",
      "NON_severe_toxic      0.999     1.000     0.999       986\n",
      "    severe_toxic      1.000     0.929     0.963        14\n",
      "\n",
      "     avg / total      0.999     0.999     0.999      1000\n",
      "\n",
      "Evaluating obscene\n",
      "\n"
     ]
    },
    {
     "name": "stderr",
     "output_type": "stream",
     "text": [
      "[WARNING] [15:22:18:autosklearn.util.backend] Could not delete output dir: /tmp/autosklearn_output_15704_1420\n",
      "[WARNING] [15:22:18:autosklearn.util.backend] Could not delete tmp dir: /tmp/autosklearn_tmp_15704_1420\n"
     ]
    },
    {
     "name": "stdout",
     "output_type": "stream",
     "text": [
      "ROC AUC:  0.976749714720426\n",
      "ACC SCORE:  0.982\n",
      "             precision    recall  f1-score   support\n",
      "\n",
      "NON_obscene      0.983     0.999     0.991       956\n",
      "    obscene      0.964     0.614     0.750        44\n",
      "\n",
      "avg / total      0.982     0.982     0.980      1000\n",
      "\n",
      "Evaluating threat\n",
      "\n",
      "ROC AUC:  1.0\n",
      "ACC SCORE:  1.0\n",
      "             precision    recall  f1-score   support\n",
      "\n",
      " NON_threat      1.000     1.000     1.000       997\n",
      "     threat      1.000     1.000     1.000         3\n",
      "\n",
      "avg / total      1.000     1.000     1.000      1000\n",
      "\n"
     ]
    }
   ],
   "source": [
    "for class_name in class_names:\n",
    "    print(\"Evaluating {}\".format(class_name))\n",
    "    print()\n",
    "    with open('../data/automl_classifiers_{}.pkl'.format(class_name), 'rb') as file:\n",
    "        cf = pickle.load(file)\n",
    "    y_preds = cf.predict_proba(test_features)[:, 1]\n",
    "    y_labels_preds = cf.predict(test_features)\n",
    "    print(\"ROC AUC: \", roc_auc_score(test[class_name], y_preds))\n",
    "    print(\"ACC SCORE: \", accuracy_score(test[class_name], y_labels_preds))\n",
    "    print(classification_report(test[class_name], y_labels_preds, target_names=['NON_{}'.format(class_name), class_name], digits=3))"
   ]
  },
  {
   "cell_type": "code",
   "execution_count": null,
   "metadata": {},
   "outputs": [],
   "source": []
  }
 ],
 "metadata": {
  "kernelspec": {
   "display_name": "Python 3",
   "language": "python",
   "name": "python3"
  },
  "language_info": {
   "codemirror_mode": {
    "name": "ipython",
    "version": 3
   },
   "file_extension": ".py",
   "mimetype": "text/x-python",
   "name": "python",
   "nbconvert_exporter": "python",
   "pygments_lexer": "ipython3",
   "version": "3.5.2"
  }
 },
 "nbformat": 4,
 "nbformat_minor": 2
}
